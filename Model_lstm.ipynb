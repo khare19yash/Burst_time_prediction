{
 "cells": [
  {
   "cell_type": "code",
   "execution_count": 5,
   "metadata": {
    "collapsed": true
   },
   "outputs": [],
   "source": [
    "import numpy as np\n",
    "import pandas as pd\n",
    "import os\n",
    "import tensorflow as tf\n",
    "import math\n",
    "import matplotlib.pyplot as plt\n",
    "\n",
    "%matplotlib inline"
   ]
  },
  {
   "cell_type": "code",
   "execution_count": 6,
   "metadata": {
    "collapsed": true
   },
   "outputs": [],
   "source": [
    "#load data from file\n",
    "\n",
    "data = pd.read_csv('my_data.csv')\n",
    "data = data.as_matrix()"
   ]
  },
  {
   "cell_type": "code",
   "execution_count": 7,
   "metadata": {},
   "outputs": [
    {
     "name": "stdout",
     "output_type": "stream",
     "text": [
      "[[1 1136070024 203761 138467 1 138371 98652 1 259200 76317.90602113931 1]\n",
      " [2 1136070690 9729.77218340525 11 1 4 35848 1 259200 76317.90602113931 1]\n",
      " [3 1136071207 117 201203 1 18882.1760718103 254212.10202486045 1 259200\n",
      "  76317.90602113931 1]\n",
      " [4 1136071267 4406 196985 1 18882.1760718103 254212.10202486045 1 259200\n",
      "  76317.90602113931 1]\n",
      " [5 1136071269 202516 19520 1 18731 522268 1 259200 76317.90602113931 1]\n",
      " [6 1136072890 1 46 1 3 49216 1 900 76317.90602113931 1]\n",
      " [7 1136074263 2629516 21 1 18882.1760718103 35712 1 5400 76317.90602113931\n",
      "  1]\n",
      " [8 1136074695 1 197831 1 18882.1760718103 254212.10202486045 1 259200\n",
      "  76317.90602113931 1]\n",
      " [9 1136074754 2 197682 1 18882.1760718103 254212.10202486045 1 259200\n",
      "  76317.90602113931 1]\n",
      " [10 1136074756 2 197552 1 18882.1760718103 254212.10202486045 1 259200\n",
      "  76317.90602113931 1]]\n"
     ]
    }
   ],
   "source": [
    "train = data[:,:11]\n",
    "train[train==-1] = 0\n",
    "mean = np.mean(train,axis=0)\n",
    "mean = mean.reshape(1,11)\n",
    "for i in range(11):\n",
    "    train[train[:,i]==0,i] = mean[0,i]\n",
    "    pass\n",
    "print(train[:10,:])"
   ]
  },
  {
   "cell_type": "code",
   "execution_count": 8,
   "metadata": {},
   "outputs": [
    {
     "name": "stdout",
     "output_type": "stream",
     "text": [
      "[[1 1136070024 203761 138467 1 138371 98652 1 259200 76317.90602113931 1]\n",
      " [2 1136070690 9729.77218340525 11 1 4 35848 1 259200 76317.90602113931 1]\n",
      " [3 1136071207 117 201203 1 18882.1760718103 254212.10202486045 1 259200\n",
      "  76317.90602113931 1]\n",
      " [4 1136071267 4406 196985 1 18882.1760718103 254212.10202486045 1 259200\n",
      "  76317.90602113931 1]\n",
      " [5 1136071269 202516 19520 1 18731 522268 1 259200 76317.90602113931 1]\n",
      " [6 1136072890 1 46 1 3 49216 1 900 76317.90602113931 1]\n",
      " [7 1136074263 2629516 21 1 18882.1760718103 35712 1 5400 76317.90602113931\n",
      "  1]\n",
      " [8 1136074695 1 197831 1 18882.1760718103 254212.10202486045 1 259200\n",
      "  76317.90602113931 1]\n",
      " [9 1136074754 2 197682 1 18882.1760718103 254212.10202486045 1 259200\n",
      "  76317.90602113931 1]\n",
      " [10 1136074756 2 197552 1 18882.1760718103 254212.10202486045 1 259200\n",
      "  76317.90602113931 1]]\n"
     ]
    }
   ],
   "source": [
    "print(train[:10,:])"
   ]
  },
  {
   "cell_type": "code",
   "execution_count": 9,
   "metadata": {
    "collapsed": true
   },
   "outputs": [],
   "source": [
    "#preprocess data\n",
    "def preprocess(train):\n",
    "    data_min = np.min(train,axis=0)\n",
    "    data_max = np.max(train,axis=0)\n",
    "    data_min = data_min.reshape(1,11)\n",
    "    data_max = data_max.reshape(1,11)\n",
    "    norm = data_max - data_min\n",
    "    print(data_max)\n",
    "    print(data_min)\n",
    "    print(norm)\n",
    "    train_norm = (train - data_min) / (norm + 1e-5)\n",
    "    return train_norm"
   ]
  },
  {
   "cell_type": "code",
   "execution_count": 10,
   "metadata": {},
   "outputs": [
    {
     "name": "stdout",
     "output_type": "stream",
     "text": [
      "[[404176 1167605790 4345394 1575814 1 259316 3667652 1 345600 1126400 5]]\n",
      "[[1 1136070024 1 1 0.8600485926922925 1 1700 1 600 76317.90602113931 1]]\n",
      "[[404175 31535766 4345393 1575813 0.1399514073077075 259315 3665952 0\n",
      "  345000 1050082.0939788606 4]]\n"
     ]
    }
   ],
   "source": [
    "train_data = preprocess(train)"
   ]
  },
  {
   "cell_type": "code",
   "execution_count": 11,
   "metadata": {
    "collapsed": true
   },
   "outputs": [],
   "source": [
    "num_training = 10000\n",
    "num_validation = 1000\n",
    "\n",
    "X_train = train_data[:11000,:]\n",
    "mask = range(num_training,num_training + num_validation)\n",
    "X_val = X_train[mask]\n",
    "mask = range(num_training)\n",
    "X_train = X_train[mask]\n",
    "X_test = train_data[15000:20000,:]"
   ]
  },
  {
   "cell_type": "code",
   "execution_count": 12,
   "metadata": {
    "collapsed": true
   },
   "outputs": [],
   "source": [
    "\n",
    "# 4 column is the burst time \n",
    "y_train = X_train[:,3].reshape(-1,1)\n",
    "y_val = X_val[:,3].reshape(-1,1)\n",
    "y_test = X_test[:,3].reshape(-1,1)\n",
    "\n",
    "#removing column 4 from input\n",
    "X_train = np.delete(X_train,3,1)\n",
    "X_val = np.delete(X_val,3,1)\n",
    "X_test = np.delete(X_test,3,1)"
   ]
  },
  {
   "cell_type": "code",
   "execution_count": 13,
   "metadata": {},
   "outputs": [
    {
     "name": "stdout",
     "output_type": "stream",
     "text": [
      "Train data shape:  (10000, 10)\n",
      "Train labels shape:  (10000, 1)\n",
      "Validation data shape:  (1000, 10)\n",
      "Validation labels shape:  (1000, 1)\n",
      "Test data shape:  (5000, 10)\n",
      "Test labels shape:  (5000, 1)\n"
     ]
    }
   ],
   "source": [
    "print('Train data shape: ', X_train.shape)\n",
    "print('Train labels shape: ', y_train.shape)\n",
    "print('Validation data shape: ', X_val.shape)\n",
    "print('Validation labels shape: ', y_val.shape)\n",
    "print('Test data shape: ', X_test.shape)\n",
    "print('Test labels shape: ', y_test.shape)"
   ]
  },
  {
   "cell_type": "code",
   "execution_count": null,
   "metadata": {
    "collapsed": true
   },
   "outputs": [],
   "source": [
    "BATCH_START = 0\n",
    "TIME_STEPS = 20\n",
    "BATCH_SIZE = 50\n",
    "INPUT_SIZE = 1\n",
    "OUTPUT_SIZE = 1\n",
    "CELL_SIZE = 10\n",
    "LR = 0.006\n",
    "\n",
    "\n",
    "\n",
    "class LSTMRNN(object):\n",
    "    def __init__(self, n_steps, input_size, output_size, cell_size, batch_size):\n",
    "        self.n_steps = n_steps\n",
    "        self.input_size = input_size\n",
    "        self.output_size = output_size\n",
    "        self.cell_size = cell_size\n",
    "        self.batch_size = batch_size\n",
    "        with tf.name_scope('inputs'):\n",
    "            self.xs = tf.placeholder(tf.float32, [None, n_steps, input_size], name='xs')\n",
    "            self.ys = tf.placeholder(tf.float32, [None, n_steps, output_size], name='ys')\n",
    "        with tf.variable_scope('in_hidden'):\n",
    "            self.add_input_layer()\n",
    "        with tf.variable_scope('LSTM_cell'):\n",
    "            self.add_cell()\n",
    "        with tf.variable_scope('out_hidden'):\n",
    "            self.add_output_layer()\n",
    "        with tf.name_scope('cost'):\n",
    "            self.compute_cost()\n",
    "        with tf.name_scope('train'):\n",
    "            self.train_op = tf.train.AdamOptimizer(LR).minimize(self.cost)\n",
    "\n",
    "    def add_input_layer(self,):\n",
    "        l_in_x = tf.reshape(self.xs, [-1, self.input_size], name='2_2D')  # (batch*n_step, in_size)\n",
    "        # Ws (in_size, cell_size)\n",
    "        Ws_in = self._weight_variable([self.input_size, self.cell_size])\n",
    "        # bs (cell_size, )\n",
    "        bs_in = self._bias_variable([self.cell_size,])\n",
    "        # l_in_y = (batch * n_steps, cell_size)\n",
    "        with tf.name_scope('Wx_plus_b'):\n",
    "            l_in_y = tf.matmul(l_in_x, Ws_in) + bs_in\n",
    "        # reshape l_in_y ==> (batch, n_steps, cell_size)\n",
    "        self.l_in_y = tf.reshape(l_in_y, [-1, self.n_steps, self.cell_size], name='2_3D')\n",
    "\n",
    "    def add_cell(self):\n",
    "        lstm_cell = tf.contrib.rnn.BasicLSTMCell(self.cell_size, forget_bias=1.0, state_is_tuple=True)\n",
    "        with tf.name_scope('initial_state'):\n",
    "            self.cell_init_state = lstm_cell.zero_state(self.batch_size, dtype=tf.float32)\n",
    "        self.cell_outputs, self.cell_final_state = tf.nn.dynamic_rnn(\n",
    "            lstm_cell, self.l_in_y, initial_state=self.cell_init_state, time_major=False)\n",
    "\n",
    "    def add_output_layer(self):\n",
    "        # shape = (batch * steps, cell_size)\n",
    "        l_out_x = tf.reshape(self.cell_outputs, [-1, self.cell_size], name='2_2D')\n",
    "        Ws_out = self._weight_variable([self.cell_size, self.output_size])\n",
    "        bs_out = self._bias_variable([self.output_size, ])\n",
    "        # shape = (batch * steps, output_size)\n",
    "        with tf.name_scope('Wx_plus_b'):\n",
    "            self.pred = tf.matmul(l_out_x, Ws_out) + bs_out\n",
    "\n",
    "    def compute_cost(self):\n",
    "        losses = tf.contrib.legacy_seq2seq.sequence_loss_by_example(\n",
    "            [tf.reshape(self.pred, [-1], name='reshape_pred')],\n",
    "            [tf.reshape(self.ys, [-1], name='reshape_target')],\n",
    "            [tf.ones([self.batch_size * self.n_steps], dtype=tf.float32)],\n",
    "            average_across_timesteps=True,\n",
    "            softmax_loss_function=self.ms_error,\n",
    "            name='losses'\n",
    "        )\n",
    "        with tf.name_scope('average_cost'):\n",
    "            self.cost = tf.div(\n",
    "                tf.reduce_sum(losses, name='losses_sum'),\n",
    "                self.batch_size,\n",
    "                name='average_cost')\n",
    "            tf.summary.scalar('cost', self.cost)\n",
    "\n",
    "    @staticmethod\n",
    "    def ms_error(labels, logits):\n",
    "        return tf.square(tf.subtract(labels, logits))\n",
    "\n",
    "    def _weight_variable(self, shape, name='weights'):\n",
    "        initializer = tf.random_normal_initializer(mean=0., stddev=1.,)\n",
    "        return tf.get_variable(shape=shape, initializer=initializer, name=name)\n",
    "\n",
    "    def _bias_variable(self, shape, name='biases'):\n",
    "        initializer = tf.constant_initializer(0.1)\n",
    "        return tf.get_variable(name=name, shape=shape, initializer=initializer)\n",
    "\n",
    "\n",
    "if __name__ == '__main__':\n",
    "    model = LSTMRNN(TIME_STEPS, INPUT_SIZE, OUTPUT_SIZE, CELL_SIZE, BATCH_SIZE)\n",
    "    sess = tf.Session()\n",
    "    merged = tf.summary.merge_all()\n",
    "    writer = tf.summary.FileWriter(\"logs\", sess.graph)\n",
    "    # tf.initialize_all_variables() no long valid from\n",
    "    # 2017-03-02 if using tensorflow >= 0.12\n",
    "    if int((tf.__version__).split('.')[1]) < 12 and int((tf.__version__).split('.')[0]) < 1:\n",
    "        init = tf.initialize_all_variables()\n",
    "    else:\n",
    "        init = tf.global_variables_initializer()\n",
    "    sess.run(init)\n",
    "    # relocate to the local dir and run this line to view it on Chrome (http://0.0.0.0:6006/):\n",
    "    # $ tensorboard --logdir='logs'\n",
    "\n",
    "    plt.ion()\n",
    "    plt.show()\n",
    "    \n",
    "    \n",
    "    Xd = X_train\n",
    "    yd = y_train\n",
    "    \n",
    "    for i in range(int(math.ceil(Xd.shape[0]/BATCH_SIZE))):\n",
    "        # generate indicies for the batch\n",
    "        start_idx = (i*BATCH_SIZE)%Xd.shape[0]\n",
    "        idx = train_indicies[start_idx:start_idx+BATCH_SIZE]\n",
    "        \n",
    "        \n",
    "        if i == 0:\n",
    "            \n",
    "            \n",
    "            feed_dict = {\n",
    "                    model.xs: Xd[idx,:],\n",
    "                    model.ys: yd[idx],\n",
    "                    # create initial state\n",
    "            }\n",
    "        else:\n",
    "            feed_dict = {\n",
    "                model.xs: Xd[idx,:],\n",
    "                model.ys: yd[idx],\n",
    "                model.cell_init_state: state    # use last state as the initial state for this run\n",
    "            }\n",
    "\n",
    "        _, cost, state, pred = sess.run(\n",
    "            [model.train_op, model.cost, model.cell_final_state, model.pred],\n",
    "            feed_dict=feed_dict)\n",
    "\n",
    "        # plotting\n",
    "        #plt.plot(xs[0, :], res[0].flatten(), 'r', xs[0, :], pred.flatten()[:TIME_STEPS], 'b--')\n",
    "        #plt.ylim((-1.2, 1.2))\n",
    "        #plt.draw()\n",
    "        #plt.pause(0.3)\n",
    "\n",
    "#        if i % 20 == 0:\n",
    " #           print('cost: ', round(cost, 4))\n",
    "  #          result = sess.run(merged, feed_dict)\n",
    "#writer.add_summary(result, i)\n",
    "\n",
    "\n",
    "\n"
   ]
  },
  {
   "cell_type": "code",
   "execution_count": null,
   "metadata": {
    "collapsed": true
   },
   "outputs": [],
   "source": []
  }
 ],
 "metadata": {
  "kernelspec": {
   "display_name": "Python 3",
   "language": "python",
   "name": "python3"
  },
  "language_info": {
   "codemirror_mode": {
    "name": "ipython",
    "version": 3
   },
   "file_extension": ".py",
   "mimetype": "text/x-python",
   "name": "python",
   "nbconvert_exporter": "python",
   "pygments_lexer": "ipython3",
   "version": "3.6.3"
  }
 },
 "nbformat": 4,
 "nbformat_minor": 2
}
