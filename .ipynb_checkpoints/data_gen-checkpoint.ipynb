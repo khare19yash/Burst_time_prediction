{
 "cells": [
  {
   "cell_type": "code",
   "execution_count": 8,
   "metadata": {
    "collapsed": true
   },
   "outputs": [],
   "source": [
    "import numpy as np\n",
    "\n",
    "import csv"
   ]
  },
  {
   "cell_type": "code",
   "execution_count": null,
   "metadata": {
    "collapsed": true
   },
   "outputs": [],
   "source": [
    "anon_jobs = 'anon_jobs_gwf/anon_jobs.gwf'"
   ]
  },
  {
   "cell_type": "code",
   "execution_count": 7,
   "metadata": {},
   "outputs": [],
   "source": [
    "import sys\n",
    "\n",
    "def print_log(anon_jobs):\n",
    "    fin = open('anon_jobs_gwf/anon_jobs.gwf','r');\n",
    "    fh = open('data.csv','w')\n",
    "\n",
    "    while 1:\n",
    "            lines = fin.readlines(10000000) # 10M buffer\n",
    "            if not lines: break\n",
    "            #-- process lines\n",
    "            for line in lines:\n",
    "                fh.writelines(line)\n",
    "\n",
    "    fin.close()\n",
    "\n",
    "def main(argv):\n",
    "    if (len(argv) > 0):\n",
    "        logfilename = argv[0]\n",
    "        print_log(logfilename)\n",
    "    else:\n",
    "        print(\"Usage: load_gwf.py <logfile>\")\n",
    "        exit()\n",
    "\n",
    "if __name__ == \"__main__\":\n",
    "    main(sys.argv[1:])\n",
    "    \n"
   ]
  },
  {
   "cell_type": "code",
   "execution_count": 9,
   "metadata": {
    "collapsed": true
   },
   "outputs": [],
   "source": [
    "with open('data.csv') as fin, open('my_data.csv', 'w') as fout:\n",
    "    o=csv.writer(fout)\n",
    "    for line in fin:\n",
    "        o.writerow(line.split())\n",
    "\n"
   ]
  },
  {
   "cell_type": "code",
   "execution_count": 1,
   "metadata": {
    "collapsed": true
   },
   "outputs": [],
   "source": [
    "\n"
   ]
  },
  {
   "cell_type": "code",
   "execution_count": null,
   "metadata": {
    "collapsed": true
   },
   "outputs": [],
   "source": []
  }
 ],
 "metadata": {
  "kernelspec": {
   "display_name": "Python 3",
   "language": "python",
   "name": "python3"
  },
  "language_info": {
   "codemirror_mode": {
    "name": "ipython",
    "version": 3
   },
   "file_extension": ".py",
   "mimetype": "text/x-python",
   "name": "python",
   "nbconvert_exporter": "python",
   "pygments_lexer": "ipython3",
   "version": "3.6.3"
  }
 },
 "nbformat": 4,
 "nbformat_minor": 2
}
